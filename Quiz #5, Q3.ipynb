{
 "cells": [
  {
   "cell_type": "code",
   "execution_count": 3,
   "metadata": {},
   "outputs": [],
   "source": [
    "import numpy as np\n",
    "import tensorflow as tf\n",
    "from sklearn.model_selection import train_test_split\n",
    "import matplotlib.pyplot as plt\n",
    "\n",
    "fashion_mnist = tf.keras.datasets.fashion_mnist"
   ]
  },
  {
   "cell_type": "code",
   "execution_count": 4,
   "metadata": {},
   "outputs": [
    {
     "name": "stdout",
     "output_type": "stream",
     "text": [
      "Downloading data from https://storage.googleapis.com/tensorflow/tf-keras-datasets/train-labels-idx1-ubyte.gz\n",
      "32768/29515 [=================================] - 0s 1us/step\n",
      "Downloading data from https://storage.googleapis.com/tensorflow/tf-keras-datasets/train-images-idx3-ubyte.gz\n",
      "26427392/26421880 [==============================] - 1s 0us/step\n",
      "Downloading data from https://storage.googleapis.com/tensorflow/tf-keras-datasets/t10k-labels-idx1-ubyte.gz\n",
      "8192/5148 [===============================================] - 0s 0us/step\n",
      "Downloading data from https://storage.googleapis.com/tensorflow/tf-keras-datasets/t10k-images-idx3-ubyte.gz\n",
      "4423680/4422102 [==============================] - 0s 0us/step\n"
     ]
    }
   ],
   "source": [
    "(train_images, train_labels), (test_images, test_labels) = fashion_mnist.load_data()"
   ]
  },
  {
   "cell_type": "code",
   "execution_count": null,
   "metadata": {},
   "outputs": [],
   "source": []
  },
  {
   "cell_type": "markdown",
   "metadata": {},
   "source": [
    "Scale values to a range of 0 to 1"
   ]
  },
  {
   "cell_type": "code",
   "execution_count": 7,
   "metadata": {},
   "outputs": [],
   "source": [
    "train_images = train_images / 255.0\n",
    "\n",
    "test_images = test_images / 255.0"
   ]
  },
  {
   "cell_type": "markdown",
   "metadata": {},
   "source": [
    "Set up layers"
   ]
  },
  {
   "cell_type": "code",
   "execution_count": 9,
   "metadata": {},
   "outputs": [],
   "source": [
    "model = tf.keras.Sequential([\n",
    "    tf.keras.layers.Flatten(input_shape=(28, 28)),\n",
    "    tf.keras.layers.Dense(128, activation='relu'),\n",
    "    tf.keras.layers.Dense(10)\n",
    "])"
   ]
  },
  {
   "cell_type": "markdown",
   "metadata": {},
   "source": [
    "Compile the model\n"
   ]
  },
  {
   "cell_type": "code",
   "execution_count": 36,
   "metadata": {},
   "outputs": [],
   "source": [
    "model.compile(optimizer='adam',\n",
    "              loss=tf.keras.losses.SparseCategoricalCrossentropy(from_logits=True),\n",
    "              metrics=['accuracy'])\n",
    "\n"
   ]
  },
  {
   "cell_type": "code",
   "execution_count": null,
   "metadata": {},
   "outputs": [],
   "source": []
  },
  {
   "cell_type": "markdown",
   "metadata": {},
   "source": [
    "Train the model"
   ]
  },
  {
   "cell_type": "code",
   "execution_count": 32,
   "metadata": {},
   "outputs": [
    {
     "name": "stdout",
     "output_type": "stream",
     "text": [
      "Epoch 1/100\n",
      "1500/1500 [==============================] - 2s 1ms/step - loss: 0.2000 - accuracy: 0.9607 - val_loss: 0.1867 - val_accuracy: 0.9572\n",
      "Epoch 2/100\n",
      "1500/1500 [==============================] - 2s 1ms/step - loss: 0.1560 - accuracy: 0.9605 - val_loss: 0.1684 - val_accuracy: 0.9633\n",
      "Epoch 3/100\n",
      "1500/1500 [==============================] - 2s 1ms/step - loss: 0.1363 - accuracy: 0.9639 - val_loss: 0.2117 - val_accuracy: 0.9507\n",
      "Epoch 4/100\n",
      "1500/1500 [==============================] - 2s 1ms/step - loss: 0.1150 - accuracy: 0.9659 - val_loss: 0.1836 - val_accuracy: 0.9563\n",
      "Epoch 5/100\n",
      "1500/1500 [==============================] - 2s 1ms/step - loss: 0.1010 - accuracy: 0.9697 - val_loss: 0.1784 - val_accuracy: 0.9563\n",
      "Epoch 6/100\n",
      "1500/1500 [==============================] - 2s 1ms/step - loss: 0.0942 - accuracy: 0.9703 - val_loss: 0.1569 - val_accuracy: 0.9619\n",
      "Epoch 7/100\n",
      "1500/1500 [==============================] - 2s 1ms/step - loss: 0.0864 - accuracy: 0.9726 - val_loss: 0.1650 - val_accuracy: 0.9599\n",
      "Epoch 8/100\n",
      "1500/1500 [==============================] - 2s 1ms/step - loss: 0.0871 - accuracy: 0.9719 - val_loss: 0.1768 - val_accuracy: 0.9545\n",
      "Epoch 9/100\n",
      "1500/1500 [==============================] - 2s 1ms/step - loss: 0.0759 - accuracy: 0.9730 - val_loss: 0.1645 - val_accuracy: 0.9627\n",
      "Epoch 10/100\n",
      "1500/1500 [==============================] - 2s 1ms/step - loss: 0.0759 - accuracy: 0.9736 - val_loss: 0.1656 - val_accuracy: 0.9572\n",
      "Epoch 11/100\n",
      "1500/1500 [==============================] - 2s 1ms/step - loss: 0.0729 - accuracy: 0.9765 - val_loss: 0.1715 - val_accuracy: 0.9592\n",
      "Epoch 12/100\n",
      "1500/1500 [==============================] - 2s 1ms/step - loss: 0.0712 - accuracy: 0.9758 - val_loss: 0.1812 - val_accuracy: 0.9582\n",
      "Epoch 13/100\n",
      "1500/1500 [==============================] - 2s 1ms/step - loss: 0.0703 - accuracy: 0.9763 - val_loss: 0.1835 - val_accuracy: 0.9557\n",
      "Epoch 14/100\n",
      "1500/1500 [==============================] - 2s 1ms/step - loss: 0.0677 - accuracy: 0.9761 - val_loss: 0.1789 - val_accuracy: 0.9567\n",
      "Epoch 15/100\n",
      "1500/1500 [==============================] - 2s 1ms/step - loss: 0.0617 - accuracy: 0.9776 - val_loss: 0.1823 - val_accuracy: 0.9576\n",
      "Epoch 16/100\n",
      "1500/1500 [==============================] - 2s 1ms/step - loss: 0.0630 - accuracy: 0.9777 - val_loss: 0.1777 - val_accuracy: 0.9566\n",
      "Epoch 17/100\n",
      "1500/1500 [==============================] - 2s 1ms/step - loss: 0.0562 - accuracy: 0.9807 - val_loss: 0.2044 - val_accuracy: 0.9503\n",
      "Epoch 18/100\n",
      "1500/1500 [==============================] - 2s 1ms/step - loss: 0.0585 - accuracy: 0.9791 - val_loss: 0.1866 - val_accuracy: 0.9540\n",
      "Epoch 19/100\n",
      "1500/1500 [==============================] - 2s 1ms/step - loss: 0.0536 - accuracy: 0.9801 - val_loss: 0.1883 - val_accuracy: 0.9543\n",
      "Epoch 20/100\n",
      "1500/1500 [==============================] - 2s 1ms/step - loss: 0.0531 - accuracy: 0.9817 - val_loss: 0.2282 - val_accuracy: 0.9453\n",
      "Epoch 21/100\n",
      "1500/1500 [==============================] - 2s 1ms/step - loss: 0.0601 - accuracy: 0.9794 - val_loss: 0.1774 - val_accuracy: 0.9589\n",
      "Epoch 22/100\n",
      "1500/1500 [==============================] - 2s 1ms/step - loss: 0.0492 - accuracy: 0.9833 - val_loss: 0.1938 - val_accuracy: 0.9538\n",
      "Epoch 23/100\n",
      "1500/1500 [==============================] - 2s 1ms/step - loss: 0.0498 - accuracy: 0.9822 - val_loss: 0.2006 - val_accuracy: 0.9553\n",
      "Epoch 24/100\n",
      "1500/1500 [==============================] - 2s 1ms/step - loss: 0.0486 - accuracy: 0.9823 - val_loss: 0.2063 - val_accuracy: 0.9523\n",
      "Epoch 25/100\n",
      "1500/1500 [==============================] - 2s 1ms/step - loss: 0.0469 - accuracy: 0.9831 - val_loss: 0.2219 - val_accuracy: 0.9494\n",
      "Epoch 26/100\n",
      "1500/1500 [==============================] - 2s 1ms/step - loss: 0.0522 - accuracy: 0.9820 - val_loss: 0.2180 - val_accuracy: 0.9546\n",
      "Epoch 27/100\n",
      "1500/1500 [==============================] - 2s 1ms/step - loss: 0.0479 - accuracy: 0.9828 - val_loss: 0.1948 - val_accuracy: 0.9553\n",
      "Epoch 28/100\n",
      "1500/1500 [==============================] - 2s 1ms/step - loss: 0.0421 - accuracy: 0.9844 - val_loss: 0.1989 - val_accuracy: 0.9546\n",
      "Epoch 29/100\n",
      "1500/1500 [==============================] - 2s 1ms/step - loss: 0.0425 - accuracy: 0.9857 - val_loss: 0.2117 - val_accuracy: 0.9503\n",
      "Epoch 30/100\n",
      "1500/1500 [==============================] - 2s 1ms/step - loss: 0.0457 - accuracy: 0.9839 - val_loss: 0.1966 - val_accuracy: 0.9535\n",
      "Epoch 31/100\n",
      "1500/1500 [==============================] - 2s 1ms/step - loss: 0.0440 - accuracy: 0.9833 - val_loss: 0.2130 - val_accuracy: 0.9511\n",
      "Epoch 32/100\n",
      "1500/1500 [==============================] - 2s 1ms/step - loss: 0.0424 - accuracy: 0.9846 - val_loss: 0.2187 - val_accuracy: 0.9484\n",
      "Epoch 33/100\n",
      "1500/1500 [==============================] - 2s 1ms/step - loss: 0.0474 - accuracy: 0.9831 - val_loss: 0.2375 - val_accuracy: 0.9443\n",
      "Epoch 34/100\n",
      "1500/1500 [==============================] - 2s 1ms/step - loss: 0.0384 - accuracy: 0.9863 - val_loss: 0.2241 - val_accuracy: 0.9513\n",
      "Epoch 35/100\n",
      "1500/1500 [==============================] - 2s 1ms/step - loss: 0.0392 - accuracy: 0.9865 - val_loss: 0.2188 - val_accuracy: 0.9532\n",
      "Epoch 36/100\n",
      "1500/1500 [==============================] - 2s 1ms/step - loss: 0.0414 - accuracy: 0.9843 - val_loss: 0.2763 - val_accuracy: 0.9371\n",
      "Epoch 37/100\n",
      "1500/1500 [==============================] - 2s 1ms/step - loss: 0.0454 - accuracy: 0.9844 - val_loss: 0.2311 - val_accuracy: 0.9519\n",
      "Epoch 38/100\n",
      "1500/1500 [==============================] - 2s 1ms/step - loss: 0.0365 - accuracy: 0.9868 - val_loss: 0.2325 - val_accuracy: 0.9492\n",
      "Epoch 39/100\n",
      "1500/1500 [==============================] - 2s 1ms/step - loss: 0.0407 - accuracy: 0.9857 - val_loss: 0.2357 - val_accuracy: 0.9500\n",
      "Epoch 40/100\n",
      "1500/1500 [==============================] - 2s 1ms/step - loss: 0.0400 - accuracy: 0.9853 - val_loss: 0.2675 - val_accuracy: 0.9448\n",
      "Epoch 41/100\n",
      "1500/1500 [==============================] - 2s 1ms/step - loss: 0.0361 - accuracy: 0.9876 - val_loss: 0.2455 - val_accuracy: 0.9498\n",
      "Epoch 42/100\n",
      "1500/1500 [==============================] - 2s 1ms/step - loss: 0.0343 - accuracy: 0.9879 - val_loss: 0.2298 - val_accuracy: 0.9517\n",
      "Epoch 43/100\n",
      "1500/1500 [==============================] - 2s 1ms/step - loss: 0.0387 - accuracy: 0.9863 - val_loss: 0.2763 - val_accuracy: 0.9407\n",
      "Epoch 44/100\n",
      "1500/1500 [==============================] - 2s 1ms/step - loss: 0.0384 - accuracy: 0.9852 - val_loss: 0.2577 - val_accuracy: 0.9504\n",
      "Epoch 45/100\n",
      "1500/1500 [==============================] - 2s 1ms/step - loss: 0.0368 - accuracy: 0.9869 - val_loss: 0.2566 - val_accuracy: 0.9480\n",
      "Epoch 46/100\n",
      "1500/1500 [==============================] - 2s 1ms/step - loss: 0.0346 - accuracy: 0.9870 - val_loss: 0.2618 - val_accuracy: 0.9454\n",
      "Epoch 47/100\n",
      "1500/1500 [==============================] - 2s 1ms/step - loss: 0.0363 - accuracy: 0.9868 - val_loss: 0.2476 - val_accuracy: 0.9467\n",
      "Epoch 48/100\n",
      "1500/1500 [==============================] - 2s 1ms/step - loss: 0.0318 - accuracy: 0.9885 - val_loss: 0.2637 - val_accuracy: 0.9470\n",
      "Epoch 49/100\n",
      "1500/1500 [==============================] - 2s 1ms/step - loss: 0.0357 - accuracy: 0.9875 - val_loss: 0.2592 - val_accuracy: 0.9476\n",
      "Epoch 50/100\n",
      "1500/1500 [==============================] - 2s 1ms/step - loss: 0.0326 - accuracy: 0.9876 - val_loss: 0.2504 - val_accuracy: 0.9483\n",
      "Epoch 51/100\n",
      "1500/1500 [==============================] - 2s 1ms/step - loss: 0.0264 - accuracy: 0.9909 - val_loss: 0.2828 - val_accuracy: 0.9442\n",
      "Epoch 52/100\n",
      "1500/1500 [==============================] - 2s 1ms/step - loss: 0.0353 - accuracy: 0.9874 - val_loss: 0.2711 - val_accuracy: 0.9442\n",
      "Epoch 53/100\n",
      "1500/1500 [==============================] - 2s 1ms/step - loss: 0.0358 - accuracy: 0.9869 - val_loss: 0.2765 - val_accuracy: 0.9473\n",
      "Epoch 54/100\n",
      "1500/1500 [==============================] - 2s 1ms/step - loss: 0.0293 - accuracy: 0.9886 - val_loss: 0.2680 - val_accuracy: 0.9457\n",
      "Epoch 55/100\n",
      "1500/1500 [==============================] - 2s 1ms/step - loss: 0.0322 - accuracy: 0.9885 - val_loss: 0.2643 - val_accuracy: 0.9492\n",
      "Epoch 56/100\n",
      "1500/1500 [==============================] - 2s 1ms/step - loss: 0.0276 - accuracy: 0.9902 - val_loss: 0.2814 - val_accuracy: 0.9460\n",
      "Epoch 57/100\n",
      "1500/1500 [==============================] - 2s 1ms/step - loss: 0.0361 - accuracy: 0.9866 - val_loss: 0.3189 - val_accuracy: 0.9409\n",
      "Epoch 58/100\n",
      "1500/1500 [==============================] - 2s 1ms/step - loss: 0.0370 - accuracy: 0.9868 - val_loss: 0.2928 - val_accuracy: 0.9426\n",
      "Epoch 59/100\n",
      "1500/1500 [==============================] - 2s 2ms/step - loss: 0.0321 - accuracy: 0.9887 - val_loss: 0.2932 - val_accuracy: 0.9452\n",
      "Epoch 60/100\n",
      "1500/1500 [==============================] - 2s 1ms/step - loss: 0.0273 - accuracy: 0.9906 - val_loss: 0.3024 - val_accuracy: 0.9438\n",
      "Epoch 61/100\n",
      "1500/1500 [==============================] - 2s 1ms/step - loss: 0.0339 - accuracy: 0.9880 - val_loss: 0.3046 - val_accuracy: 0.9400\n",
      "Epoch 62/100\n",
      "1500/1500 [==============================] - 2s 1ms/step - loss: 0.0281 - accuracy: 0.9893 - val_loss: 0.2975 - val_accuracy: 0.9418\n",
      "Epoch 63/100\n",
      "1500/1500 [==============================] - 2s 1ms/step - loss: 0.0342 - accuracy: 0.9876 - val_loss: 0.2931 - val_accuracy: 0.9452\n",
      "Epoch 64/100\n",
      "1500/1500 [==============================] - 2s 1ms/step - loss: 0.0268 - accuracy: 0.9906 - val_loss: 0.3086 - val_accuracy: 0.9410\n",
      "Epoch 65/100\n",
      "1500/1500 [==============================] - 2s 1ms/step - loss: 0.0312 - accuracy: 0.9898 - val_loss: 0.3157 - val_accuracy: 0.9453\n",
      "Epoch 66/100\n",
      "1500/1500 [==============================] - 2s 1ms/step - loss: 0.0300 - accuracy: 0.9891 - val_loss: 0.3075 - val_accuracy: 0.9422\n",
      "Epoch 67/100\n",
      "1500/1500 [==============================] - 2s 1ms/step - loss: 0.0286 - accuracy: 0.9889 - val_loss: 0.2892 - val_accuracy: 0.9444\n",
      "Epoch 68/100\n",
      "1500/1500 [==============================] - 2s 1ms/step - loss: 0.0272 - accuracy: 0.9898 - val_loss: 0.3069 - val_accuracy: 0.9435\n",
      "Epoch 69/100\n",
      "1500/1500 [==============================] - 2s 1ms/step - loss: 0.0299 - accuracy: 0.9894 - val_loss: 0.3319 - val_accuracy: 0.9432\n",
      "Epoch 70/100\n",
      "1500/1500 [==============================] - 2s 1ms/step - loss: 0.0250 - accuracy: 0.9906 - val_loss: 0.3076 - val_accuracy: 0.9428\n",
      "Epoch 71/100\n",
      "1500/1500 [==============================] - 2s 1ms/step - loss: 0.0269 - accuracy: 0.9908 - val_loss: 0.3274 - val_accuracy: 0.9397\n",
      "Epoch 72/100\n",
      "1500/1500 [==============================] - 2s 1ms/step - loss: 0.0293 - accuracy: 0.9895 - val_loss: 0.3158 - val_accuracy: 0.9425\n",
      "Epoch 73/100\n",
      "1500/1500 [==============================] - 2s 1ms/step - loss: 0.0266 - accuracy: 0.9911 - val_loss: 0.3117 - val_accuracy: 0.9438\n",
      "Epoch 74/100\n",
      "1500/1500 [==============================] - 2s 1ms/step - loss: 0.0280 - accuracy: 0.9901 - val_loss: 0.3084 - val_accuracy: 0.9437\n",
      "Epoch 75/100\n",
      "1500/1500 [==============================] - 2s 1ms/step - loss: 0.0264 - accuracy: 0.9901 - val_loss: 0.3236 - val_accuracy: 0.9437\n",
      "Epoch 76/100\n",
      "1500/1500 [==============================] - 2s 1ms/step - loss: 0.0239 - accuracy: 0.9908 - val_loss: 0.3266 - val_accuracy: 0.9416\n",
      "Epoch 77/100\n",
      "1500/1500 [==============================] - 2s 1ms/step - loss: 0.0292 - accuracy: 0.9899 - val_loss: 0.3486 - val_accuracy: 0.9390\n",
      "Epoch 78/100\n",
      "1500/1500 [==============================] - 2s 1ms/step - loss: 0.0290 - accuracy: 0.9902 - val_loss: 0.3349 - val_accuracy: 0.9438\n",
      "Epoch 79/100\n",
      "1500/1500 [==============================] - 2s 1ms/step - loss: 0.0239 - accuracy: 0.9915 - val_loss: 0.3609 - val_accuracy: 0.9358\n",
      "Epoch 80/100\n",
      "1500/1500 [==============================] - 2s 1ms/step - loss: 0.0280 - accuracy: 0.9895 - val_loss: 0.3113 - val_accuracy: 0.9452\n",
      "Epoch 81/100\n",
      "1500/1500 [==============================] - 2s 1ms/step - loss: 0.0293 - accuracy: 0.9892 - val_loss: 0.3311 - val_accuracy: 0.9438\n",
      "Epoch 82/100\n",
      "1500/1500 [==============================] - 2s 1ms/step - loss: 0.0193 - accuracy: 0.9927 - val_loss: 0.3455 - val_accuracy: 0.9402\n",
      "Epoch 83/100\n",
      "1500/1500 [==============================] - 2s 1ms/step - loss: 0.0311 - accuracy: 0.9893 - val_loss: 0.3310 - val_accuracy: 0.9420\n",
      "Epoch 84/100\n",
      "1500/1500 [==============================] - 2s 1ms/step - loss: 0.0223 - accuracy: 0.9918 - val_loss: 0.4105 - val_accuracy: 0.9341\n",
      "Epoch 85/100\n",
      "1500/1500 [==============================] - 2s 1ms/step - loss: 0.0230 - accuracy: 0.9916 - val_loss: 0.3908 - val_accuracy: 0.9353\n",
      "Epoch 86/100\n",
      "1500/1500 [==============================] - 2s 1ms/step - loss: 0.0306 - accuracy: 0.9898 - val_loss: 0.3553 - val_accuracy: 0.9378\n",
      "Epoch 87/100\n",
      "1500/1500 [==============================] - 2s 1ms/step - loss: 0.0238 - accuracy: 0.9918 - val_loss: 0.3650 - val_accuracy: 0.9371\n",
      "Epoch 88/100\n",
      "1500/1500 [==============================] - 2s 1ms/step - loss: 0.0256 - accuracy: 0.9912 - val_loss: 0.3578 - val_accuracy: 0.9375\n",
      "Epoch 89/100\n",
      "1500/1500 [==============================] - 2s 1ms/step - loss: 0.0260 - accuracy: 0.9911 - val_loss: 0.3724 - val_accuracy: 0.9375\n",
      "Epoch 90/100\n",
      "1500/1500 [==============================] - 2s 1ms/step - loss: 0.0224 - accuracy: 0.9920 - val_loss: 0.3664 - val_accuracy: 0.9383\n",
      "Epoch 91/100\n",
      "1500/1500 [==============================] - 2s 1ms/step - loss: 0.0269 - accuracy: 0.9907 - val_loss: 0.3658 - val_accuracy: 0.9398\n",
      "Epoch 92/100\n",
      "1500/1500 [==============================] - 2s 1ms/step - loss: 0.0193 - accuracy: 0.9933 - val_loss: 0.3686 - val_accuracy: 0.9408\n",
      "Epoch 93/100\n",
      "1500/1500 [==============================] - 2s 1ms/step - loss: 0.0218 - accuracy: 0.9922 - val_loss: 0.3879 - val_accuracy: 0.9367\n",
      "Epoch 94/100\n",
      "1500/1500 [==============================] - 2s 1ms/step - loss: 0.0218 - accuracy: 0.9929 - val_loss: 0.3719 - val_accuracy: 0.9373\n",
      "Epoch 95/100\n",
      "1500/1500 [==============================] - 2s 1ms/step - loss: 0.0192 - accuracy: 0.9935 - val_loss: 0.3801 - val_accuracy: 0.9331\n",
      "Epoch 96/100\n",
      "1500/1500 [==============================] - 2s 1ms/step - loss: 0.0234 - accuracy: 0.9910 - val_loss: 0.3933 - val_accuracy: 0.9352\n",
      "Epoch 97/100\n",
      "1500/1500 [==============================] - 2s 1ms/step - loss: 0.0270 - accuracy: 0.9903 - val_loss: 0.3888 - val_accuracy: 0.9367\n",
      "Epoch 98/100\n",
      "1500/1500 [==============================] - 2s 1ms/step - loss: 0.0247 - accuracy: 0.9908 - val_loss: 0.3697 - val_accuracy: 0.9416\n",
      "Epoch 99/100\n",
      "1500/1500 [==============================] - 2s 1ms/step - loss: 0.0189 - accuracy: 0.9933 - val_loss: 0.3955 - val_accuracy: 0.9366\n",
      "Epoch 100/100\n",
      "1500/1500 [==============================] - 2s 1ms/step - loss: 0.0217 - accuracy: 0.9928 - val_loss: 0.3785 - val_accuracy: 0.9400\n"
     ]
    }
   ],
   "source": [
    "history = model.fit(train_x, train_y,validation_data=(val_x,val_y), epochs=100)"
   ]
  },
  {
   "cell_type": "markdown",
   "metadata": {},
   "source": [
    "Plot comparisons of model accuracy and model loss on the training data and validation set"
   ]
  },
  {
   "cell_type": "code",
   "execution_count": 37,
   "metadata": {},
   "outputs": [
    {
     "data": {
      "image/png": "[encoded data removed]",
      "text/plain": [
       "<Figure size 432x288 with 1 Axes>"
      ]
     },
     "metadata": {
      "needs_background": "light"
     },
     "output_type": "display_data"
    }
   ],
   "source": [
    "plt.plot(history.history['accuracy'])\n",
    "plt.plot(history.history['val_accuracy'])\n",
    "plt.title('model accuracy')\n",
    "plt.ylabel('accuracy')\n",
    "plt.xlabel('epoch')\n",
    "plt.legend(['training', 'validation'], loc='upper left')\n",
    "plt.show()"
   ]
  },
  {
   "cell_type": "code",
   "execution_count": 38,
   "metadata": {},
   "outputs": [
    {
     "data": {
      "image/png": "[encoded data removed]",
      "text/plain": [
       "<Figure size 432x288 with 1 Axes>"
      ]
     },
     "metadata": {
      "needs_background": "light"
     },
     "output_type": "display_data"
    }
   ],
   "source": [
    "plt.plot(history.history['loss'])\n",
    "plt.plot(history.history['val_loss'])\n",
    "plt.title('model loss')\n",
    "plt.ylabel('loss')\n",
    "plt.xlabel('epoch')\n",
    "plt.legend(['training', 'validation'], loc='upper left')\n",
    "plt.show()"
   ]
  },
  {
   "cell_type": "code",
   "execution_count": null,
   "metadata": {},
   "outputs": [],
   "source": []
  }
 ],
 "metadata": {
  "kernelspec": {
   "display_name": "Python 3",
   "language": "python",
   "name": "python3"
  },
  "language_info": {
   "codemirror_mode": {
    "name": "ipython",
    "version": 3
   },
   "file_extension": ".py",
   "mimetype": "text/x-python",
   "name": "python",
   "nbconvert_exporter": "python",
   "pygments_lexer": "ipython3",
   "version": "3.8.5"
  }
 },
 "nbformat": 4,
 "nbformat_minor": 4
}
